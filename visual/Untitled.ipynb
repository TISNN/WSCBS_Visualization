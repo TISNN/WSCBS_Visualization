{
 "cells": [
  {
   "cell_type": "code",
   "execution_count": null,
   "id": "fecbb4f5-4f7e-482f-bcc4-ddd81a71bec1",
   "metadata": {},
   "outputs": [],
   "source": [
    "import pandas as pd"
   ]
  },
  {
   "cell_type": "code",
   "execution_count": null,
   "id": "01941b57-b630-4f9b-b5b7-7aa8f2dfedb5",
   "metadata": {},
   "outputs": [],
   "source": [
    "data = pd.read_csv(\"data_for_visual.csv\")"
   ]
  },
  {
   "cell_type": "code",
   "execution_count": null,
   "id": "28ce1f49-bbb6-43e4-93ba-2e5feb1f07d2",
   "metadata": {},
   "outputs": [],
   "source": [
    "data.head()"
   ]
  },
  {
   "cell_type": "code",
   "execution_count": null,
   "id": "aec185f7-cb15-4282-af01-ea4a29af5df3",
   "metadata": {},
   "outputs": [],
   "source": [
    "train = pd.read_csv(\"train.csv\")\n",
    "train.head()"
   ]
  },
  {
   "cell_type": "code",
   "execution_count": null,
   "id": "44935b25-7989-4189-beff-736844535e88",
   "metadata": {},
   "outputs": [],
   "source": []
  },
  {
   "cell_type": "code",
   "execution_count": null,
   "id": "c52ae882-df63-46cc-bd0d-1a6357387a01",
   "metadata": {},
   "outputs": [],
   "source": []
  }
 ],
 "metadata": {
  "kernelspec": {
   "display_name": "Python 3",
   "language": "python",
   "name": "python3"
  },
  "language_info": {
   "name": ""
  }
 },
 "nbformat": 4,
 "nbformat_minor": 5
}
